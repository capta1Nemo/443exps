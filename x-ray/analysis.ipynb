{
 "cells": [
  {
   "cell_type": "code",
   "execution_count": 45,
   "id": "3d015abd",
   "metadata": {},
   "outputs": [],
   "source": [
    "import ROOT\n",
    "import numpy as np\n",
    "import os"
   ]
  },
  {
   "cell_type": "code",
   "execution_count": 46,
   "id": "f8eb4043",
   "metadata": {},
   "outputs": [
    {
     "name": "stdout",
     "output_type": "stream",
     "text": [
      "Processed data saved at: processed_data/15kV-XRay_processed.txt\n",
      "Processed data saved at: processed_data/18kV-XRay_processed.txt\n",
      "Processed data saved at: processed_data/21kV-XRay_processed.txt\n",
      "Processed data saved at: processed_data/24kV-XRay_processed.txt\n",
      "Processed data saved at: processed_data/27kV-XRay_processed.txt\n",
      "Processed data saved at: processed_data/30kV-XRay_processed.txt\n",
      "Processed data saved at: processed_data/35kV-XRay_processed.txt\n"
     ]
    }
   ],
   "source": [
    "for i in [15,18,21,24,27,30,35]:\n",
    "    input_dir = f\"/home/master/Desktop/443exps/x-ray/data/{i}kV-XRay.txt\"\n",
    "    processed_dir = \"processed_data\"\n",
    "    os.makedirs(processed_dir, exist_ok=True)\n",
    "\n",
    "    with open(input_dir, \"r\", encoding=\"utf-8\") as f:\n",
    "        text = f.read().replace(\",\", \".\")\n",
    "\n",
    "    clean_path = os.path.join(processed_dir, f\"{i}kV-XRay_clean.txt\")\n",
    "    with open(clean_path, \"w\", encoding=\"utf-8\") as f:\n",
    "        f.write(text)\n",
    "\n",
    "    data = np.loadtxt(clean_path, skiprows=2)\n",
    "    x = data[:, 0]\n",
    "    y = [int(i) for i in data[:, 1]]\n",
    "\n",
    "    sx = np.full_like(x, 0.1)\n",
    "    sy = np.sqrt(y)\n",
    "\n",
    "    output = np.column_stack((x, y, sx, sy))\n",
    "\n",
    "    processed_path = os.path.join(processed_dir, f\"{i}kV-XRay_processed.txt\")\n",
    "    np.savetxt(processed_path, output, fmt=\"%.2e %.2f %.2e %.2f\")\n",
    "\n",
    "    os.remove(clean_path)\n",
    "\n",
    "    print(f\"Processed data saved at: {processed_path}\")\n"
   ]
  },
  {
   "cell_type": "code",
   "execution_count": 47,
   "id": "948a85a5",
   "metadata": {},
   "outputs": [
    {
     "name": "stderr",
     "output_type": "stream",
     "text": [
      "Info in <TCanvas::Print>: pdf file 35kV-XRay_plot.pdf has been created\n"
     ]
    }
   ],
   "source": [
    "import ROOT\n",
    "data = np.loadtxt(\"processed_data/35kV-XRay_processed.txt\")\n",
    "c = ROOT.TCanvas(\"c\", \"c\", 1000, 600)\n",
    "graph = ROOT.TGraphErrors(\"processed_data/35kV-XRay_processed.txt\")\n",
    "graph.SetTitle(\"35kV X-Ray Spectrum;Angle (deg);Rate (Imp/s)\")\n",
    "\n",
    "graph.Draw(\"A*\")\n",
    "c.Update()\n",
    "c.SaveAs(\"35kV-XRay_plot.pdf\")\n",
    "del c, graph"
   ]
  },
  {
   "cell_type": "code",
   "execution_count": 48,
   "id": "2240ef40",
   "metadata": {},
   "outputs": [
    {
     "name": "stderr",
     "output_type": "stream",
     "text": [
      "Info in <TCanvas::Print>: pdf file 35kV-XRay_CalibrationPlot.pdf has been created\n"
     ]
    }
   ],
   "source": [
    "\n",
    "intervals = [\n",
    "    (6.1,6.71),\n",
    "    (7.4, 7.9),\n",
    "    (13.2, 13.6),\n",
    "    (14.75, 15.5),\n",
    "    (19.9, 20.3),\n",
    "    (22.4, 22.9),\n",
    "    (30.4, 31.0)\n",
    "]\n",
    "\n",
    "c1 = ROOT.TCanvas(\"c1\", \"Canvas for 35kV\", 1400, 900)\n",
    "ROOT.gStyle.SetOptFit(0)\n",
    "ROOT.gStyle.SetOptStat(0)\n",
    "\n",
    "file_path = \"processed_data/35kV-XRay_processed.txt\"\n",
    "graph = ROOT.TGraphErrors(file_path)\n",
    "graph_points = graph.Clone(\"graph_points\")\n",
    "graph_errors = graph.Clone(\"graph_errors\")\n",
    "\n",
    "graph_points.SetMarkerStyle(20)\n",
    "graph_points.SetMarkerSize(0.5)\n",
    "graph_points.SetMarkerColor(ROOT.kBlue+2)\n",
    "\n",
    "graph_errors.SetLineColor(ROOT.kGreen+2 ) \n",
    "graph_errors.SetMarkerColor(0)             \n",
    "graph_errors.SetLineWidth(1)\n",
    "graph_errors.SetMarkerStyle(0)\n",
    "\n",
    "graph_points.Draw(\"AP\") \n",
    "graph_errors.Draw(\"P SAME\")      \n",
    "graph_points.SetTitle(\"35kV X-Ray Spectrum;Angle (degrees);Rate (Imp/s)\")\n",
    "  \n",
    "\n",
    "legend = ROOT.TLegend(0.60, 0.65, 0.82, 0.85)\n",
    "legend.SetBorderSize(0)\n",
    "legend.SetFillColor(ROOT.kWhite)\n",
    "legend.SetFillStyle(1001)   \n",
    "legend.SetTextFont(42)\n",
    "legend.SetTextSize(0.025)\n",
    "\n",
    "values, errors = [], []\n",
    "\n",
    "for i, (xmin, xmax) in enumerate(intervals, start=1):\n",
    "    fit_name = f\"gauss_fit_{i}\"\n",
    "    gauss_fit = ROOT.TF1(fit_name, \"[0]*TMath::Gaus(x,[1],[2])\", xmin, xmax)\n",
    "    gauss_fit.SetParameters(10, (xmin + xmax)/2, 0.5)\n",
    "    gauss_fit.SetLineColor(ROOT.kRed) \n",
    "\n",
    "    gauss_fit.SetLineWidth(2)\n",
    "    \n",
    "    graph_errors.Fit(gauss_fit, \"RQ+\")\n",
    "    \n",
    "    mean = gauss_fit.GetParameter(1)\n",
    "    sigma = gauss_fit.GetParameter(2)\n",
    "    variance = sigma**2    \n",
    "\n",
    "    values.append(mean)\n",
    "    errors.append(variance)\n",
    "    \n",
    "    legend.AddEntry(\"\", f\"Peak{i}: \\lambda = {mean:.2f} \\pm {variance:.2f}\", \"n\")\n",
    "\n",
    "legend.Draw()\n",
    "ROOT.gPad.SetTicks(1,1)\n",
    "ROOT.gPad.SetGrid(1,1)\n",
    "\n",
    "c1.Update()\n",
    "c1.SaveAs(\"35kV-XRay_CalibrationPlot.pdf\")\n",
    "del c1, graph, gauss_fit, legend"
   ]
  },
  {
   "cell_type": "markdown",
   "id": "30b95b47",
   "metadata": {},
   "source": [
    "mean values of the peaks with their errors:"
   ]
  },
  {
   "cell_type": "code",
   "execution_count": 49,
   "id": "6db9b27c",
   "metadata": {},
   "outputs": [
    {
     "name": "stdout",
     "output_type": "stream",
     "text": [
      "[[6.65309798e+00 3.70922530e-01]\n",
      " [7.65421384e+00 2.86972833e-02]\n",
      " [1.33931374e+01 3.42471132e-02]\n",
      " [1.50760712e+01 3.58925470e-02]\n",
      " [2.00902001e+01 3.22328776e-02]\n",
      " [2.26670086e+01 2.86748740e-02]\n",
      " [3.06933187e+01 6.59578051e-02]]\n"
     ]
    }
   ],
   "source": [
    "print(np.array([(values[i],errors[i]) for i in range(len(values))]))"
   ]
  },
  {
   "cell_type": "markdown",
   "id": "51489b16",
   "metadata": {},
   "source": [
    "bragg's law suggests: $n \\lambda = 2 d \\, \\sin \\theta$\n",
    "\n",
    "we need $\\lambda$ in order to obtain theoretical $\\theta$\n",
    "\n",
    "we can use $K_\\alpha$ and $K_\\beta$ values to obtain $\\lambda$\n",
    "\n",
    "from https://dlf.ug.edu.pl/wp-content/uploads/2014/03/X-Ray-Mo.pdf#page=2.17 , values are as follows:\n",
    "$K_\\alpha=17426.8 eV$ \n",
    "$K_\\beta=19589.8 eV$\n",
    "\n",
    "from Urusov, V.S., Blinov, V.V. Nature of the imperfection of NaCl-AgCl solid solutions. Russ Chem Bull 19, 231–234 (1970). https://doi.org/10.1007/BF00853362 , value for d is:\n",
    "\n",
    "$d=282pm (10^-12m)$"
   ]
  },
  {
   "cell_type": "code",
   "execution_count": 50,
   "id": "9e662b9f",
   "metadata": {},
   "outputs": [],
   "source": [
    "h=6.6256e-34\n",
    "C=2.9979e8\n",
    "eV=1.6021e-19\n",
    "d=282e-12\n",
    "def wavelength(K):\n",
    "    return h*C/(K*eV)\n",
    "def tetha(n,wavelength):\n",
    "    return float(np.degrees(np.arcsin(n*wavelength/(2*d))))\n"
   ]
  },
  {
   "cell_type": "code",
   "execution_count": 51,
   "id": "dc381a0c",
   "metadata": {},
   "outputs": [
    {
     "name": "stdout",
     "output_type": "stream",
     "text": [
      "Beta1\n",
      "6.442907886667427\n",
      "Alpha1\n",
      "7.24664706373932\n",
      "Beta2\n",
      "12.969141041086196\n",
      "Alpha2\n",
      "14.612580550020782\n",
      "Beta3\n",
      "19.67225702627856\n",
      "Alpha3\n",
      "22.236018395775332\n",
      "[6.653097984086529, 7.654213843506307, 13.393137403950941, 15.076071231880952, 20.090200114814536, 22.66700862373639]\n"
     ]
    }
   ],
   "source": [
    "K_a=17426.8\n",
    "K_b=19589.8\n",
    "for i in range(3):\n",
    "    print(f\"Beta{i+1}\")\n",
    "    print(tetha(i+1,wavelength(K_b)))\n",
    "    print(f\"Alpha{i+1}\")\n",
    "    print(tetha(i+1,wavelength(K_a)))\n",
    "print(values[:-1])    "
   ]
  },
  {
   "cell_type": "code",
   "execution_count": 52,
   "id": "192e0f4c",
   "metadata": {},
   "outputs": [],
   "source": [
    "cal_set=[]\n",
    "cal_ab=[]\n",
    "for i in range(3):\n",
    "    cal_ab.append(tetha(i+1,wavelength(K_b)))\n",
    "    cal_ab.append(tetha(i+1,wavelength(K_a))) \n",
    "cal_set.append(cal_ab)\n",
    "cal_set.append(values[:-1])\n",
    "cal_set.append(errors[:-1])#i will ditch the last data point since it is missing the beta pair and unreliable"
   ]
  },
  {
   "cell_type": "code",
   "execution_count": 53,
   "id": "9363e7c5",
   "metadata": {},
   "outputs": [
    {
     "data": {
      "text/plain": [
       "[[6.442907886667427,\n",
       "  7.24664706373932,\n",
       "  12.969141041086196,\n",
       "  14.612580550020782,\n",
       "  19.67225702627856,\n",
       "  22.236018395775332],\n",
       " [6.653097984086529,\n",
       "  7.654213843506307,\n",
       "  13.393137403950941,\n",
       "  15.076071231880952,\n",
       "  20.090200114814536,\n",
       "  22.66700862373639],\n",
       " [0.3709225297623251,\n",
       "  0.02869728326878947,\n",
       "  0.03424711319713821,\n",
       "  0.035892546958856686,\n",
       "  0.032232877634078554,\n",
       "  0.028674874049479493]]"
      ]
     },
     "execution_count": 53,
     "metadata": {},
     "output_type": "execute_result"
    }
   ],
   "source": [
    "cal_set"
   ]
  },
  {
   "cell_type": "code",
   "execution_count": 54,
   "id": "a476ae91",
   "metadata": {},
   "outputs": [
    {
     "name": "stdout",
     "output_type": "stream",
     "text": [
      "[3.709225297623251, 0.2869728326878947, 0.3424711319713821, 0.35892546958856686, 0.32232877634078555, 0.28674874049479493]\n"
     ]
    }
   ],
   "source": [
    "print([i*10 for i in cal_set[2]])"
   ]
  },
  {
   "cell_type": "code",
   "execution_count": 55,
   "id": "b8277a4b",
   "metadata": {},
   "outputs": [
    {
     "name": "stdout",
     "output_type": "stream",
     "text": [
      "Applying a visual scaling factor of 20 to points 2 to 6's error bars for drawing.\n",
      "****************************************\n",
      "Minimizer is Minuit2 / Migrad\n",
      "Chi2                      =      1.72262\n",
      "NDf                       =            4\n",
      "Edm                       =  2.77698e-06\n",
      "NCalls                    =           45\n",
      "p0                        =    -0.408075   +/-   0.0416658   \n",
      "p1                        =     0.998842   +/-   0.00248468  \n"
     ]
    },
    {
     "name": "stderr",
     "output_type": "stream",
     "text": [
      "Info in <TCanvas::Print>: pdf file cal_function.pdf has been created\n"
     ]
    }
   ],
   "source": [
    "import ROOT\n",
    "ROOT.gStyle.SetOptFit(1)\n",
    "# Data\n",
    "y = cal_set[0]\n",
    "x = cal_set[1]\n",
    "sx = cal_set[2]\n",
    "sy = [0]*6  \n",
    "\n",
    "graph = ROOT.TGraphErrors(len(x))\n",
    "for i in range(len(x)):\n",
    "    graph.SetPoint(i, x[i], y[i])\n",
    "    graph.SetPointError(i, sx[i], sy[i])\n",
    "\n",
    "fit_func = ROOT.TF1(\"fit_func\", \"[0] + [1]*x\", min(x), max(x))\n",
    "fit_func.SetParameters(0, 1)  # initial guesses\n",
    "\n",
    "graph.Fit(fit_func)\n",
    "cal_parameters=[(fit_func.GetParameter(i),fit_func.GetParError(i)) for i in range(2)]\n",
    "\n",
    "visual_scale_factor =20\n",
    "starting_point=2\n",
    "print(f\"Applying a visual scaling factor of {visual_scale_factor} to points {starting_point} to {len(x)}'s error bars for drawing.\")\n",
    "\n",
    "for i in range(1,len(x)):\n",
    "    graph.SetPointError(i, sx[i] * visual_scale_factor, sy[i])\n",
    "graph.SetMarkerStyle(20)\n",
    "graph.SetMarkerColor(ROOT.kBlue)\n",
    "graph.SetTitle(\"Calibration Function;#theta_{exp};#theta_{thr}\")\n",
    "\n",
    "c = ROOT.TCanvas(\"c\", \"Line Fit\", 800, 600)\n",
    "graph.Draw(\"AP\")\n",
    "fit_func.Draw(\"same\")\n",
    "c.Update()\n",
    "stats = graph.GetListOfFunctions().FindObject(\"stats\")\n",
    "if stats:\n",
    "    stats.SetX1NDC(0.15)  # lower-left x (0 to 1)\n",
    "    stats.SetY1NDC(0.75)  # lower-left y\n",
    "    stats.SetX2NDC(0.45)  # upper-right x\n",
    "    stats.SetY2NDC(0.87)   # upper-right y\n",
    "    stats.SetTextSize(0.03)\n",
    "    c.Modified()\n",
    "\n",
    "ROOT.gPad.SetTicks(1, 1)\n",
    "ROOT.gPad.SetGrid(1, 1)\n",
    "c.Update()\n",
    "c.SaveAs(\"cal_function.pdf\")\n",
    "del c, graph, fit_func\n"
   ]
  },
  {
   "cell_type": "code",
   "execution_count": 56,
   "id": "48a159a5",
   "metadata": {},
   "outputs": [
    {
     "data": {
      "text/plain": [
       "[(-0.40807496549392136, 0.04166581435994885),\n",
       " (0.9988420932493778, 0.0024846833469566666)]"
      ]
     },
     "execution_count": 56,
     "metadata": {},
     "output_type": "execute_result"
    }
   ],
   "source": [
    "cal_parameters"
   ]
  },
  {
   "cell_type": "code",
   "execution_count": 57,
   "id": "20349ee4",
   "metadata": {},
   "outputs": [],
   "source": [
    "m=cal_parameters[1][0]\n",
    "b=cal_parameters[0][0]\n",
    "s_m=cal_parameters[1][1]\n",
    "s_b=cal_parameters[0][1]\n",
    "def calerror(tetha):\n",
    "    return float(np.sqrt((s_m*tetha)**2+(m*0.1)**2+s_b**2))\n",
    "\n",
    "def calibrate(tetha):\n",
    "    m=cal_parameters[1][0]\n",
    "    b=cal_parameters[0][0]\n",
    "    return tetha*m+b"
   ]
  },
  {
   "cell_type": "code",
   "execution_count": 58,
   "id": "9ba8a763",
   "metadata": {},
   "outputs": [
    {
     "name": "stdout",
     "output_type": "stream",
     "text": [
      "12.969554434244973 0.11322676821391196\n"
     ]
    }
   ],
   "source": [
    "print(calibrate(values[2]),calerror(values[2]))"
   ]
  },
  {
   "cell_type": "markdown",
   "id": "ebd3fa66",
   "metadata": {},
   "source": [
    "At this point we obtained the calibration function and can convert our experimental tetha values with their errors to the theoreticly correct scale. we need to update our datasets on 15,18,21,24,27,30keV accordingly. "
   ]
  },
  {
   "cell_type": "code",
   "execution_count": 59,
   "id": "2ebf29b3",
   "metadata": {},
   "outputs": [
    {
     "name": "stdout",
     "output_type": "stream",
     "text": [
      "Processed data saved at: calibrated_data/15kV-XRay_calibrated.txt\n",
      "Processed data saved at: calibrated_data/18kV-XRay_calibrated.txt\n",
      "Processed data saved at: calibrated_data/21kV-XRay_calibrated.txt\n",
      "Processed data saved at: calibrated_data/24kV-XRay_calibrated.txt\n",
      "Processed data saved at: calibrated_data/27kV-XRay_calibrated.txt\n",
      "Processed data saved at: calibrated_data/30kV-XRay_calibrated.txt\n"
     ]
    }
   ],
   "source": [
    "for i in [15,18,21,24,27,30]:\n",
    "    input_dir = f\"/home/master/Desktop/443exps/x-ray/processed_data/{i}kV-XRay_processed.txt\"\n",
    "    processed_dir = \"calibrated_data\"\n",
    "    os.makedirs(processed_dir, exist_ok=True)\n",
    "\n",
    "    with open(input_dir, \"r\", encoding=\"utf-8\") as f:\n",
    "        text = f.read().replace(\",\", \".\")\n",
    "\n",
    "    clean_path = os.path.join(processed_dir, f\"{i}kV-XRay_clean.txt\")\n",
    "    with open(clean_path, \"w\", encoding=\"utf-8\") as f:\n",
    "        f.write(text)\n",
    "\n",
    "    data = np.loadtxt(clean_path)\n",
    "    x = data[:, 0]\n",
    "    y = data[:, 1]\n",
    "\n",
    "    sx = np.full_like(x, 0.1)\n",
    "    sy = np.sqrt(y)\n",
    "    cal_x=[calibrate(i) for i in x]\n",
    "    cal_sx=[calerror(i) for i in x]\n",
    "    output = np.column_stack((cal_x, y,cal_sx, sy))\n",
    "\n",
    "    processed_path = os.path.join(processed_dir, f\"{i}kV-XRay_calibrated.txt\")\n",
    "    np.savetxt(processed_path, output, fmt=\"%.2e %.2f %.2e %.2f\")\n",
    "\n",
    "    os.remove(clean_path)\n",
    "\n",
    "    print(f\"Processed data saved at: {processed_path}\")\n"
   ]
  },
  {
   "cell_type": "markdown",
   "id": "91decf28",
   "metadata": {},
   "source": [
    "we finaly need to convert them into wavelength using braggs law. We shall assuma n=1 since our dataset does not reach to level of alpha1 or betha1 peaks."
   ]
  },
  {
   "cell_type": "code",
   "execution_count": 60,
   "id": "a29cf5d7",
   "metadata": {},
   "outputs": [],
   "source": [
    "def braggs(tetha):\n",
    "    return np.sin(np.deg2rad(tetha))*2*d"
   ]
  },
  {
   "cell_type": "code",
   "execution_count": 61,
   "id": "bf567901",
   "metadata": {},
   "outputs": [
    {
     "data": {
      "text/plain": [
       "np.float64(1.1514305351992426e-10)"
      ]
     },
     "execution_count": 61,
     "metadata": {},
     "output_type": "execute_result"
    }
   ],
   "source": [
    "braggs(11.78)"
   ]
  },
  {
   "cell_type": "code",
   "execution_count": 62,
   "id": "f348e0c1",
   "metadata": {},
   "outputs": [],
   "source": [
    "def err_braggs(tetha,err_tetha):\n",
    "    return np.cos(np.deg2rad(tetha))*2*d*np.deg2rad(err_tetha)\n"
   ]
  },
  {
   "cell_type": "code",
   "execution_count": 63,
   "id": "d8c4b2ce",
   "metadata": {},
   "outputs": [
    {
     "data": {
      "text/plain": [
       "np.float64(1.1514305351992426e-10)"
      ]
     },
     "execution_count": 63,
     "metadata": {},
     "output_type": "execute_result"
    }
   ],
   "source": [
    "braggs(11.78)"
   ]
  },
  {
   "cell_type": "code",
   "execution_count": 64,
   "id": "f8e91177",
   "metadata": {},
   "outputs": [
    {
     "data": {
      "text/plain": [
       "np.float64(1.059997057213857e-12)"
      ]
     },
     "execution_count": 64,
     "metadata": {},
     "output_type": "execute_result"
    }
   ],
   "source": [
    "err_braggs(11.78,0.11)"
   ]
  },
  {
   "cell_type": "code",
   "execution_count": 65,
   "id": "91ca0a31",
   "metadata": {},
   "outputs": [
    {
     "name": "stdout",
     "output_type": "stream",
     "text": [
      "Processed data saved at: wave_data/15kV-XRay_lambda.txt\n",
      "Processed data saved at: wave_data/18kV-XRay_lambda.txt\n",
      "Processed data saved at: wave_data/21kV-XRay_lambda.txt\n",
      "Processed data saved at: wave_data/24kV-XRay_lambda.txt\n",
      "Processed data saved at: wave_data/27kV-XRay_lambda.txt\n",
      "Processed data saved at: wave_data/30kV-XRay_lambda.txt\n"
     ]
    }
   ],
   "source": [
    "for i in [15,18,21,24,27,30]:\n",
    "    input_dir = f\"/home/master/Desktop/443exps/x-ray/calibrated_data/{i}kV-XRay_calibrated.txt\"\n",
    "    processed_dir = \"wave_data\"\n",
    "    os.makedirs(processed_dir, exist_ok=True)\n",
    "\n",
    "    with open(input_dir, \"r\", encoding=\"utf-8\") as f:\n",
    "        text = f.read().replace(\",\", \".\")\n",
    "\n",
    "    clean_path = os.path.join(processed_dir, f\"{i}kV-XRay_clean.txt\")\n",
    "    with open(clean_path, \"w\", encoding=\"utf-8\") as f:\n",
    "        f.write(text)\n",
    "\n",
    "    data = np.loadtxt(clean_path)\n",
    "    x = data[:, 0]\n",
    "    y = data[:, 1]\n",
    "\n",
    "    sx = data[:,2]\n",
    "    sy = data[:,3]\n",
    "    cal_x=[braggs(i) for i in x]\n",
    "    cal_sx=[err_braggs(x[i],sx[i]) for i in range(len(x))]\n",
    "    output = np.column_stack((cal_x, y,cal_sx, sy))\n",
    "\n",
    "    processed_path = os.path.join(processed_dir, f\"{i}kV-XRay_lambda.txt\")\n",
    "    np.savetxt(processed_path, output, fmt=\"%.2e %.2e %.2e %.2e\")\n",
    "\n",
    "    os.remove(clean_path)\n",
    "\n",
    "    print(f\"Processed data saved at: {processed_path}\")"
   ]
  },
  {
   "cell_type": "markdown",
   "id": "fd9dfbb5",
   "metadata": {},
   "source": [
    "we now can fit a line to linear segments of datasets. we need the intervals for each"
   ]
  },
  {
   "cell_type": "code",
   "execution_count": 66,
   "id": "457fe13a",
   "metadata": {},
   "outputs": [],
   "source": [
    "L=[(15,(8e-11,9e-11)),(18,(6.50e-11,8e-11)),\n",
    "   (21,(5.80e-11,7.20e-11)),(24,(5.7e-11,7e-11)),\n",
    "   (27,(6e-11,7e-11)),(30,(6e-11,7e-11))]"
   ]
  },
  {
   "cell_type": "code",
   "execution_count": 67,
   "id": "9488af2a",
   "metadata": {},
   "outputs": [
    {
     "name": "stdout",
     "output_type": "stream",
     "text": [
      "15kV x-intercept: 7.962e-11 m\n",
      "18kV x-intercept: 6.520e-11 m\n",
      "21kV x-intercept: 5.605e-11 m\n",
      "24kV x-intercept: 5.152e-11 m\n",
      "27kV x-intercept: 4.602e-11 m\n",
      "30kV x-intercept: 4.007e-11 m\n"
     ]
    },
    {
     "name": "stderr",
     "output_type": "stream",
     "text": [
      "Info in <TCanvas::Print>: pdf file 15kV_lambda_intercept.pdf has been created\n",
      "Info in <TCanvas::Print>: pdf file 18kV_lambda_intercept.pdf has been created\n",
      "Info in <TCanvas::Print>: pdf file 21kV_lambda_intercept.pdf has been created\n",
      "Info in <TCanvas::Print>: pdf file 24kV_lambda_intercept.pdf has been created\n",
      "Info in <TCanvas::Print>: pdf file 27kV_lambda_intercept.pdf has been created\n",
      "Info in <TCanvas::Print>: pdf file 30kV_lambda_intercept.pdf has been created\n"
     ]
    }
   ],
   "source": [
    "ROOT.gROOT.SetBatch(True)\n",
    "L=[(15,(8e-11,9e-11)),(18,(6.50e-11,7.8e-11)),\n",
    "   (21,(5.80e-11,7.20e-11)),(24,(5.60e-11,6.7e-11)),\n",
    "   (27,(5.4e-11,6.5e-11)),(30,(5.3e-11,6.4e-11))]\n",
    "intercept_params=[]\n",
    "for idx, (kv, (fit_a, fit_b)) in enumerate(L):\n",
    "    c = ROOT.TCanvas(f\"c{idx}\", f\"{kv}kV\", 1000, 600)\n",
    "    \n",
    "    data = np.loadtxt(f\"wave_data/{kv}kV-XRay_lambda.txt\")\n",
    "    x = data[:,0]\n",
    "    y = data[:,1]\n",
    "    sx = data[:,2]\n",
    "    sy = data[:,3]\n",
    "\n",
    "    graph = ROOT.TGraphErrors(len(x))\n",
    "    for i in range(len(x)):\n",
    "      graph.SetPoint(i, x[i], y[i])\n",
    "      graph.SetPointError(i, sx[i], sy[i])\n",
    "    graph.SetTitle(f\"{kv}kV X-Ray Spectrum ;Wavelength (m);Rate (Imp/s)\")\n",
    "    graph.SetMarkerStyle(20)\n",
    "    graph.SetMarkerSize(0.7)\n",
    "    graph.SetMarkerColor(ROOT.kBlue +1)\n",
    "    graph.Draw(\"AP\")\n",
    "    fit = ROOT.TF1(\"line_fit\", \"[0] + [1]*x\",fit_a,fit_b)\n",
    "    fit.SetParameter(0, 0.0)         \n",
    "    fit.SetParameter(1, 1e11)        \n",
    "    fit_result = ROOT.TFitResultPtr(graph.Fit(fit, \"RSQ\"))\n",
    "    cov_ab = fit_result.CovMatrix(0, 1)  # i ditch this if i need\n",
    "    var_a  = fit_result.CovMatrix(1, 1)  # variance of slope \n",
    "    var_b  = fit_result.CovMatrix(0, 0)  # variance of intercept\n",
    "\n",
    "# Convert to standard deviations\n",
    "    sa = float(np.sqrt(var_a))\n",
    "    sb = float(np.sqrt(var_b))\n",
    "\n",
    "    a = fit.GetParameter(1)\n",
    "    b = fit.GetParameter(0)\n",
    "    intercept_params.append([a,b,sa,sb,cov_ab])#cov_ab here\n",
    "    x_intercept = -b / a\n",
    "    print(f\"{kv}kV x-intercept: {x_intercept:.3e} m\")\n",
    "    y_max = (fit_b+0.5e-11)*a+b\n",
    "    xline = ROOT.TLine(x_intercept, 0, fit_b+0.5e-11, y_max) \n",
    "    xline.SetLineColor(ROOT.kBlue)\n",
    "    xline.SetLineStyle(2)\n",
    "    xline.SetLineWidth(2)\n",
    "    xline.Draw(\"same\")\n",
    "\n",
    "    legend = ROOT.TLegend(0.1, 0.75, 0.50, 0.85) \n",
    "    legend.SetBorderSize(0)\n",
    "    legend.SetFillStyle(0)\n",
    "    legend.AddEntry(\"\",f\"x-intercept = {x_intercept:.3e} m\",\"n\")\n",
    "    legend.Draw(\"same\")\n",
    "    c.Update()\n",
    "    c.SaveAs(f\"{kv}kV_lambda_intercept.pdf\")\n",
    "    del c, graph, fit, xline, legend"
   ]
  },
  {
   "cell_type": "code",
   "execution_count": 68,
   "id": "ef748ac7",
   "metadata": {},
   "outputs": [
    {
     "data": {
      "text/plain": [
       "[[2277311570637.839,\n",
       "  -181.3235257630652,\n",
       "  422713420649.77045,\n",
       "  35.451041376793206,\n",
       "  -14977222790094.352],\n",
       " [3006573409271.2686,\n",
       "  -196.03729727597687,\n",
       "  405162728010.21545,\n",
       "  28.41510485536157,\n",
       "  -11499029714546.826],\n",
       " [3991413647418.495,\n",
       "  -223.73461345127373,\n",
       "  482062712159.1669,\n",
       "  30.858146127961025,\n",
       "  -14847807325466.254],\n",
       " [6919821163568.986,\n",
       "  -356.4863003410447,\n",
       "  1146646396893.9426,\n",
       "  70.20839956390087,\n",
       "  -80413590534696.36],\n",
       " [7367472264241.144,\n",
       "  -339.03235645760947,\n",
       "  1086039714303.459,\n",
       "  63.883396816582426,\n",
       "  -69269165747393.28],\n",
       " [7579114565023.897,\n",
       "  -303.7109936916751,\n",
       "  1284757216703.0935,\n",
       "  74.47545187719386,\n",
       "  -95538169573427.33]]"
      ]
     },
     "execution_count": 68,
     "metadata": {},
     "output_type": "execute_result"
    }
   ],
   "source": [
    "intercept_params"
   ]
  },
  {
   "cell_type": "code",
   "execution_count": 69,
   "id": "ac0ed573",
   "metadata": {},
   "outputs": [],
   "source": [
    "def intercept_err(parameters):\n",
    "    a=parameters[0]\n",
    "    b=parameters[1]\n",
    "    sa=parameters[2]\n",
    "    sb=parameters[3]\n",
    "    cov_ab=parameters[4]\n",
    "    sigma=float(np.sqrt((sb/a)**2 + (b*sa/a**2)**2 - 2*b*cov_ab/(a**3))) #- 2*b*cov_ab/(a**3) here if you remove\n",
    "    intercept=float(-b/a)\n",
    "    return(intercept,sigma)\n",
    "    "
   ]
  },
  {
   "cell_type": "code",
   "execution_count": 70,
   "id": "62b741b7",
   "metadata": {},
   "outputs": [],
   "source": [
    "final_data=[intercept_err(i) for i in intercept_params]"
   ]
  },
  {
   "cell_type": "code",
   "execution_count": 71,
   "id": "527b8c49",
   "metadata": {},
   "outputs": [
    {
     "data": {
      "text/plain": [
       "[(7.962174702000893e-11, 9.373708604120842e-13),\n",
       " (6.520289731541671e-11, 7.994539634542902e-13),\n",
       " (5.6053978167854726e-11, 1.0579425216861873e-12),\n",
       " (5.151669268822293e-11, 1.6689071568384538e-12),\n",
       " (4.601745948921195e-11, 1.9366678942442875e-12),\n",
       " (4.00720943173548e-11, 3.0667655024373124e-12)]"
      ]
     },
     "execution_count": 71,
     "metadata": {},
     "output_type": "execute_result"
    }
   ],
   "source": [
    "final_data"
   ]
  },
  {
   "cell_type": "markdown",
   "id": "09bc1e06",
   "metadata": {},
   "source": [
    "we can finaly move on to calculating energies from our base wavelength. Base wavelength corresponds to the higer energy of x-rays which is given with:\n",
    "\n",
    "$Energy:eV=\\frac{hc}{\\lambda}$\n",
    "\n",
    "where V is accelerating potential and e is fundamental charge of electron.we ahould first convert $\\lambda$ into $f=\\frac{c}{\\lambda}$\n",
    "\n",
    "\n"
   ]
  },
  {
   "cell_type": "code",
   "execution_count": 72,
   "id": "faf51c72",
   "metadata": {},
   "outputs": [],
   "source": [
    "def frequency_err(l):\n",
    "    f=C/l[0]\n",
    "    sf=f*l[1]/l[0]\n",
    "    return (f,sf)\n"
   ]
  },
  {
   "cell_type": "code",
   "execution_count": 73,
   "id": "2dc51188",
   "metadata": {},
   "outputs": [],
   "source": [
    "f_data=np.array([frequency_err(i) for i in final_data])"
   ]
  },
  {
   "cell_type": "code",
   "execution_count": 74,
   "id": "9a2a2d3b",
   "metadata": {},
   "outputs": [
    {
     "data": {
      "text/plain": [
       "array([[3.76517737e+18, 4.43266781e+16],\n",
       "       [4.59780182e+18, 5.63737355e+16],\n",
       "       [5.34823771e+18, 1.00940705e+17],\n",
       "       [5.81927885e+18, 1.88518238e+17],\n",
       "       [6.51470123e+18, 2.74174473e+17],\n",
       "       [7.48126608e+18, 5.72550278e+17]])"
      ]
     },
     "execution_count": 74,
     "metadata": {},
     "output_type": "execute_result"
    }
   ],
   "source": [
    "f_data"
   ]
  },
  {
   "cell_type": "markdown",
   "id": "00514f44",
   "metadata": {},
   "source": [
    "now we need to plot energy vs.frequency and investigate the slope  "
   ]
  },
  {
   "cell_type": "code",
   "execution_count": null,
   "id": "32ad33a5",
   "metadata": {},
   "outputs": [],
   "source": []
  },
  {
   "cell_type": "code",
   "execution_count": 75,
   "id": "186b292f",
   "metadata": {},
   "outputs": [],
   "source": [
    "e_list=[]\n",
    "for i in [15,18,21,24,27,30]:\n",
    "    e_list.append(i*1e3*eV)"
   ]
  },
  {
   "cell_type": "code",
   "execution_count": 76,
   "id": "f0ca111a",
   "metadata": {},
   "outputs": [
    {
     "data": {
      "text/plain": [
       "[2.40315e-15, 2.88378e-15, 3.36441e-15, 3.84504e-15, 4.32567e-15, 4.8063e-15]"
      ]
     },
     "execution_count": 76,
     "metadata": {},
     "output_type": "execute_result"
    }
   ],
   "source": [
    "e_list"
   ]
  },
  {
   "cell_type": "code",
   "execution_count": 77,
   "id": "1a649bba",
   "metadata": {},
   "outputs": [],
   "source": [
    "y = e_list\n",
    "x = f_data[:,0]\n",
    "sx = f_data[:,1]\n",
    "sy = [0]*6 "
   ]
  },
  {
   "cell_type": "markdown",
   "id": "42e89f95",
   "metadata": {},
   "source": [
    "final solution: i implamented covariance to llambda to make it more precise and scaled the final e vs. f graph to help with regression. \n",
    "\n",
    "general roadmap of this analysis as follows (in case i forget):\n",
    "\n",
    "1-fit gaussians to the K_alpha and K-Beta peaks in 35keV data.\n",
    "\n",
    "2-calculate theoretical peaks using braggs law and theoretical values for alpha and beta(you can see the reference to that up sommewhere)\n",
    "\n",
    "3-find linear relation theoretical=a*experimental+b\n",
    "\n",
    "4-calibrate all datasets and convert tehta values to wavelength using braggs law combined with E=hc/lambda\n",
    "\n",
    "5-plot the datasets and find intercept of the linear part of the e vs. lambda graph\n",
    "\n",
    "6-this gives you min lambda that bremsstraghlung event can produce. which gives the max energy output\n",
    "\n",
    "7-find frequency of that lambda_min and plot with energy\n",
    "\n",
    "8-slope should give h from E=hf (Duane-hunt)    "
   ]
  },
  {
   "cell_type": "code",
   "execution_count": 78,
   "id": "e440a00a",
   "metadata": {},
   "outputs": [],
   "source": [
    "def rescale_f(freq):\n",
    "    f=freq[:,0]*1e-18\n",
    "    sf=freq[:,1]*1e-18\n",
    "    return np.array([(float(f[i]),float(sf[i])) for i in range(len(f))])\n",
    "\n",
    "def rescale_e(energy):\n",
    "    return [float(energy[i]*1e16) for i in range(len(energy))]\n",
    "\n"
   ]
  },
  {
   "cell_type": "code",
   "execution_count": 79,
   "id": "6f75fa9e",
   "metadata": {},
   "outputs": [
    {
     "data": {
      "text/plain": [
       "[24.0315, 28.8378, 33.6441, 38.4504, 43.2567, 48.063]"
      ]
     },
     "execution_count": 79,
     "metadata": {},
     "output_type": "execute_result"
    }
   ],
   "source": [
    "rescale_f(f_data)\n",
    "rescale_e(e_list)"
   ]
  },
  {
   "cell_type": "code",
   "execution_count": 80,
   "id": "b341e590",
   "metadata": {},
   "outputs": [
    {
     "name": "stdout",
     "output_type": "stream",
     "text": [
      "Initial guesses: -0.3174504655722643 6.4668800632860455\n",
      "****************************************\n",
      "Minimizer is Minuit2 / Migrad\n",
      "Chi2                      =      4.04913\n",
      "NDf                       =            4\n",
      "Edm                       =  2.50958e-07\n",
      "NCalls                    =           41\n",
      "p0                        =    -0.516195   +/-   1.34503     \n",
      "p1                        =      6.46686   +/-   0.308572    \n"
     ]
    },
    {
     "name": "stderr",
     "output_type": "stream",
     "text": [
      "Info in <TCanvas::Print>: pdf file h_plot.pdf has been created\n"
     ]
    },
    {
     "data": {
      "text/html": [
       "\n",
       "\n",
       "<div id=\"root_plot_1760651887023\" style=\"width: 800px; height: 600px; position: relative\">\n",
       "</div>\n",
       "\n",
       "<script>\n",
       "\n",
       "function display_root_plot_1760651887023(Core) {\n",
       "   let obj = Core.parse({\"_typename\":\"TCanvasWebSnapshot\",\"fUniqueID\":0,\"fBits\":0,\"fObjectID\":\"\",\"fOption\":\"\",\"fKind\":3,\"fSnapshot\":{\"_typename\":\"TCanvas\",\"fUniqueID\":0,\"fBits\":3342344,\"fLineColor\":1,\"fLineStyle\":1,\"fLineWidth\":1,\"fFillColor\":0,\"fFillStyle\":1001,\"fLeftMargin\":0.1,\"fRightMargin\":0.1,\"fBottomMargin\":0.1,\"fTopMargin\":0.1,\"fXfile\":2,\"fYfile\":2,\"fAfile\":1,\"fXstat\":0.99,\"fYstat\":0.99,\"fAstat\":2,\"fFrameFillColor\":0,\"fFrameLineColor\":1,\"fFrameFillStyle\":1001,\"fFrameLineStyle\":1,\"fFrameLineWidth\":1,\"fFrameBorderSize\":1,\"fFrameBorderMode\":0,\"fX1\":2.6376092262048,\"fY1\":18.023624731427,\"fX2\":9.13705782365241,\"fY2\":54.070875268573,\"fXtoAbsPixelk\":-323.033086973489,\"fXtoPixelk\":-323.033086973489,\"fXtoPixel\":122.471927897483,\"fYtoAbsPixelk\":857.999991476535,\"fYtoPixelk\":857.999991476535,\"fYtoPixel\":-15.8680618209859,\"fUtoAbsPixelk\":0,\"fUtoPixelk\":0,\"fUtoPixel\":796,\"fVtoAbsPixelk\":572,\"fVtoPixelk\":572,\"fVtoPixel\":-572,\"fAbsPixeltoXk\":2.6376092262048,\"fPixeltoXk\":2.6376092262048,\"fPixeltoX\":0.00816513642895429,\"fAbsPixeltoYk\":54.070875268573,\"fPixeltoYk\":18.023624731427,\"fPixeltoY\":-0.0630196687712341,\"fXlowNDC\":0,\"fYlowNDC\":0,\"fXUpNDC\":1,\"fYUpNDC\":1,\"fWNDC\":1,\"fHNDC\":1,\"fAbsXlowNDC\":0,\"fAbsYlowNDC\":0,\"fAbsWNDC\":1,\"fAbsHNDC\":1,\"fUxmin\":3.28755412468929,\"fUymin\":21.62835,\"fUxmax\":8.48711292516792,\"fUymax\":50.46615,\"fTheta\":30,\"fPhi\":30,\"fAspectRatio\":0,\"fNumber\":0,\"fTickx\":1,\"fTicky\":1,\"fLogx\":0,\"fLogy\":0,\"fLogz\":0,\"fPadPaint\":0,\"fCrosshair\":0,\"fCrosshairPos\":0,\"fBorderSize\":2,\"fBorderMode\":0,\"fModified\":false,\"fGridx\":true,\"fGridy\":true,\"fAbsCoord\":false,\"fEditable\":true,\"fFixedAspectRatio\":false,\"fPrimitives\":{\"_typename\":\"TList\",\"name\":\"TList\",\"arr\":[],\"opt\":[]},\"fExecs\":null,\"fName\":\"c\",\"fTitle\":\"Line Fit\",\"fNumPaletteColor\":0,\"fNextPaletteColor\":0,\"fDISPLAY\":\"$DISPLAY\",\"fDoubleBuffer\":0,\"fRetained\":true,\"fXsizeUser\":0,\"fYsizeUser\":0,\"fXsizeReal\":20,\"fYsizeReal\":15,\"fWindowTopX\":0,\"fWindowTopY\":0,\"fWindowWidth\":0,\"fWindowHeight\":0,\"fCw\":796,\"fCh\":572,\"fCatt\":{\"_typename\":\"TAttCanvas\",\"fXBetween\":2,\"fYBetween\":2,\"fTitleFromTop\":1.2,\"fXdate\":0.2,\"fYdate\":0.3,\"fAdate\":1},\"kMoveOpaque\":true,\"kResizeOpaque\":true,\"fHighLightColor\":2,\"fBatch\":true,\"kShowEventStatus\":false,\"kAutoExec\":true,\"kMenuBar\":true},\"fActive\":false,\"fReadOnly\":true,\"fWithoutPrimitives\":false,\"fHasExecs\":false,\"fPrimitives\":[{\"_typename\":\"TWebSnapshot\",\"fUniqueID\":0,\"fBits\":0,\"fObjectID\":\"\",\"fOption\":\"\",\"fKind\":4,\"fSnapshot\":{\"_typename\":\"TWebPainting\",\"fUniqueID\":0,\"fBits\":0,\"fOper\":\"0:255,255,255;1:0,0,0;2:255,0,0;3:0,255,0;4:0,0,255;5:255,255,0;6:255,0,255;7:0,255,255;8:89,211,84;9:89,84,216;10:254,254,254;11:192,182,172;12:76,76,76;13:102,102,102;14:127,127,127;15:153,153,153;16:178,178,178;17:204,204,204;18:229,229,229;19:242,242,242;20:204,198,170;21:204,198,170;22:193,191,168;23:186,181,163;24:178,165,150;25:183,163,155;26:173,153,140;27:155,142,130;28:135,102,86;29:175,206,198;30:132,193,163;31:137,168,160;32:130,158,140;33:173,188,198;34:122,142,153;35:117,137,145;36:104,130,150;37:109,122,132;38:124,153,209;39:127,127,155;40:170,165,191;41:211,206,135;42:221,186,135;43:188,158,130;44:198,153,124;45:191,130,119;46:206,94,96;47:170,142,147;48:165,119,122;49:147,104,112;50:211,89,84;51:146,0,255;52:122,0,255;53:98,0,255;54:74,0,255;55:51,0,255;56:27,0,255;57:3,0,255;58:0,20,255;59:0,44,255;60:0,68,255;61:0,91,255;62:0,115,255;63:0,139,255;64:0,163,255;65:0,187,255;66:0,210,255;67:0,234,255;68:0,255,251;69:0,255,227;70:0,255,204;71:0,255,180;72:0,255,156;73:0,255,132;74:0,255,108;75:0,255,85;76:0,255,61;77:0,255,37;78:0,255,13;79:10,255,0;80:34,255,0;81:57,255,0;82:81,255,0;83:105,255,0;84:129,255,0;85:153,255,0;86:176,255,0;87:200,255,0;88:224,255,0;89:248,255,0;90:255,238,0;91:255,214,0;92:255,190,0;93:255,166,0;94:255,142,0;95:255,119,0;96:255,95,0;97:255,71,0;98:255,47,0;99:255,23,0;100:111,45,168;101:165,42,42;102:178,190,181;103:87,144,252;104:248,156,32;105:228,37,54;106:150,74,139;107:156,156,161;108:122,33,221;109:24,69,251;110:255,94,2;111:201,31,22;112:200,73,169;113:173,173,125;114:134,200,221;115:87,141,255;116:101,99,100;117:63,144,218;118:255,169,14;119:189,31,1;120:148,164,162;121:131,45,182;122:169,107,89;123:231,99,0;124:185,172,112;125:113,117,129;126:146,218,221;127:178,178,178;201:91,91,91;202:122,122,122;203:183,183,183;204:214,214,214;205:137,15,15;206:183,20,20;207:234,71,71;208:239,117,117;209:15,137,15;210:20,183,20;211:71,234,71;212:117,239,117;213:15,15,137;214:20,20,183;215:71,71,234;216:117,117,239;217:137,137,15;218:183,183,20;219:234,234,71;220:239,239,117;221:137,15,137;222:183,20,183;223:234,71,234;224:239,117,239;225:15,137,137;226:20,183,183;227:71,234,234;228:117,239,239;390:255,255,204;391:255,255,153;392:204,204,153;393:255,255,102;394:204,204,102;395:153,153,102;396:255,255,51;397:204,204,51;398:153,153,51;399:102,102,51;400:255,255,0;401:204,204,0;402:153,153,0;403:102,102,0;404:51,51,0;406:204,255,204;407:153,255,153;408:153,204,153;409:102,255,102;410:102,204,102;411:102,153,102;412:51,255,51;413:51,204,51;414:51,153,51;415:51,102,51;416:0,255,0;417:0,204,0;418:0,153,0;419:0,102,0;420:0,51,0;422:204,255,255;423:153,255,255;424:153,204,204;425:102,255,255;426:102,204,204;427:102,153,153;428:51,255,255;429:51,204,204;430:51,153,153;431:51,102,102;432:0,255,255;433:0,204,204;434:0,153,153;435:0,102,102;436:0,51,51;590:204,204,255;591:153,153,255;592:153,153,204;593:102,102,255;594:102,102,204;595:102,102,153;596:51,51,255;597:51,51,204;598:51,51,153;599:51,51,102;600:0,0,255;601:0,0,204;602:0,0,153;603:0,0,102;604:0,0,51;606:255,204,255;607:255,153,255;608:204,153,204;609:255,102,255;610:204,102,204;611:153,102,153;612:255,51,255;613:204,51,204;614:153,51,153;615:102,51,102;616:255,0,255;617:204,0,204;618:153,0,153;619:102,0,102;620:51,0,51;622:255,204,204;623:255,153,153;624:204,153,153;625:255,102,102;626:204,102,102;627:153,102,102;628:255,51,51;629:204,51,51;630:153,51,51;631:102,51,51;632:255,0,0;633:204,0,0;634:153,0,0;635:102,0,0;636:51,0,0;791:255,204,153;792:204,153,102;793:153,102,51;794:153,102,0;795:204,153,51;796:255,204,102;797:255,153,0;798:255,204,51;799:204,153,0;800:255,204,0;801:255,153,51;802:204,102,0;803:102,51,0;804:153,51,0;805:204,102,51;806:255,153,102;807:255,102,0;808:255,102,51;809:204,51,0;810:255,51,0;811:153,255,51;812:102,204,0;813:51,102,0;814:51,153,0;815:102,204,51;816:153,255,102;817:102,255,0;818:102,255,51;819:51,204,0;820:51,255,0;821:204,255,153;822:153,204,102;823:102,153,51;824:102,153,0;825:153,204,51;826:204,255,102;827:153,255,0;828:204,255,51;829:153,204,0;830:204,255,0;831:153,255,204;832:102,204,153;833:51,153,102;834:0,153,102;835:51,204,153;836:102,255,204;837:0,255,102;838:51,255,204;839:0,204,153;840:0,255,204;841:51,255,153;842:0,204,102;843:0,102,51;844:0,153,51;845:51,204,102;846:102,255,153;847:0,255,153;848:51,255,102;849:0,204,51;850:0,255,51;851:153,204,255;852:102,153,204;853:51,102,153;854:0,51,153;855:51,102,204;856:102,153,255;857:0,102,255;858:51,102,255;859:0,51,204;860:0,51,255;861:51,153,255;862:0,102,204;863:0,51,102;864:0,102,153;865:51,153,204;866:102,204,255;867:0,153,255;868:51,204,255;869:0,153,204;870:0,204,255;871:204,153,255;872:153,102,204;873:102,51,153;874:102,0,153;875:153,51,204;876:204,102,255;877:153,0,255;878:204,51,255;879:153,0,204;880:204,0,255;881:153,51,255;882:102,0,204;883:51,0,102;884:51,0,153;885:102,51,204;886:153,102,255;887:102,0,255;888:102,51,255;889:51,0,204;890:51,0,255;891:255,51,153;892:204,0,102;893:102,0,51;894:153,0,51;895:204,51,102;896:255,102,153;897:255,0,102;898:255,51,102;899:204,0,51;900:255,0,51;901:255,153,204;902:204,102,153;903:153,51,102;904:153,0,102;905:204,51,153;906:255,102,204;907:255,0,153;908:204,0,153;909:255,51,204;910:255,0,153;920:204,204,204;921:153,153,153;922:102,102,102;923:51,51,51;924:53,42,134;925:51,44,137;926:50,45,140;927:49,47,143;928:48,48,146;929:46,50,148;930:45,51,151;931:44,53,154;932:43,55,157;933:42,56,160;934:40,58,162;935:39,59,165;936:38,61,168;937:37,63,171;938:35,64,174;939:34,66,176;940:33,67,179;941:32,69,182;942:31,71,185;943:29,72,187;944:28,74,190;945:27,75,193;946:26,77,196;947:24,79,199;948:23,80,201;949:22,82,204;950:21,83,207;951:19,85,210;952:18,86,213;953:17,88,215;954:16,90,218;955:15,91,221;956:15,92,221;957:15,94,220;958:15,95,220;959:15,96,220;960:15,97,220;961:15,98,220;962:16,99,219;963:16,100,219;964:16,102,219;965:16,103,219;966:16,104,218;967:16,105,218;968:17,106,218;969:17,107,218;970:17,109,217;971:17,110,217;972:17,111,217;973:17,112,217;974:17,113,216;975:18,114,216;976:18,115,216;977:18,117,216;978:18,118,215;979:18,119,215;980:18,120,215;981:18,121,215;982:19,122,215;983:19,123,214;984:19,125,214;985:19,126,214;986:19,127,214;987:19,128,213;988:19,129,213;989:19,130,213;990:18,131,212;991:18,132,212;992:17,134,211;993:17,135,211;994:16,136,211;995:16,137,210;996:15,138,210;997:15,139,210;998:15,140,209;999:14,141,209;1000:14,142,208;1001:13,143,208;1002:13,145,208;1003:12,146,207;1004:12,147,207;1005:12,148,207;1006:11,149,206;1007:11,150,206;1008:10,151,205;1009:10,152,205;1010:9,153,205;1011:9,154,204;1012:8,155,204;1013:8,157,204;1014:8,158,203;1015:7,159,203;1016:7,160,202;1017:6,161,202;1018:6,162,202;1019:5,163,201;1020:7,164,200;1021:8,164,199;1022:9,165,198;1023:10,166,197;1024:12,166,195;1025:13,167,194;1026:14,167,193;1027:15,168,192;1028:17,169,191;1029:18,169,189;1030:19,170,188;1031:20,170,187;1032:22,171,186;1033:23,172,185;1034:24,172,184;1035:25,173,182;1036:27,173,181;1037:28,174,180;1038:29,175,179;1039:30,175,178;1040:32,176,176;1041:33,176,175;1042:34,177,174;1043:35,178,173;1044:37,178,172;1045:38,179,170;1046:39,180,169;1047:40,180,168;1048:42,181,167;1049:43,181,166;1050:44,182,165;1051:45,183,163;1052:48,183,162;1053:51,183,161;1054:54,183,159;1055:57,184,158;1056:59,184,156;1057:62,184,155;1058:65,184,154;1059:68,185,152;1060:71,185,151;1061:73,185,149;1062:76,185,148;1063:79,186,146;1064:82,186,145;1065:84,186,144;1066:87,186,142;1067:90,187,141;1068:93,187,139;1069:96,187,138;1070:98,187,137;1071:101,188,135;1072:104,188,134;1073:107,188,132;1074:110,188,131;1075:112,189,130;1076:115,189,128;1077:118,189,127;1078:121,189,125;1079:124,190,124;1080:126,190,123;1081:129,190,121;1082:132,190,120;1083:135,191,118;1084:137,190,117;1085:139,190,117;1086:142,190,116;1087:144,190,115;1088:146,190,114;1089:148,190,113;1090:151,190,112;1091:153,190,111;1092:155,189,110;1093:158,189,109;1094:160,189,108;1095:162,189,107;1096:165,189,106;1097:167,189,105;1098:169,189,104;1099:171,188,104;1100:174,188,103;1101:176,188,102;1102:178,188,101;1103:181,188,100;1104:183,188,99;1105:185,188,98;1106:188,188,97;1107:190,187,96;1108:192,187,95;1109:194,187,94;1110:197,187,93;1111:199,187,92;1112:201,187,92;1113:204,187,91;1114:206,186,90;1115:208,186,89;1116:210,187,88;1117:211,187,86;1118:212,188,85;1119:214,188,84;1120:215,188,83;1121:217,189,81;1122:218,189,80;1123:220,190,79;1124:221,190,78;1125:222,191,77;1126:224,191,75;1127:225,191,74;1128:227,192,73;1129:228,192,72;1130:229,193,70;1131:231,193,69;1132:232,194,68;1133:234,194,67;1134:235,194,66;1135:236,195,64;1136:238,195,63;1137:239,196,62;1138:241,196,61;1139:242,197,59;1140:244,197,58;1141:245,197,57;1142:246,198,56;1143:248,198,55;1144:249,199,53;1145:251,199,52;1146:252,200,51;1147:253,200,50;1148:253,202,49;1149:253,203,47;1150:253,205,46;1151:253,206,45;1152:253,208,44;1153:252,209,43;1154:252,211,42;1155:252,213,41;1156:252,214,39;1157:252,216,38;1158:252,217,37;1159:252,219,36;1160:251,220,35;1161:251,222,34;1162:251,224,33;1163:251,225,31;1164:251,227,30;1165:251,228,29;1166:250,230,28;1167:250,231,27;1168:250,233,26;1169:250,235,25;1170:250,236,23;1171:250,238,22;1172:250,239,21;1173:249,241,20;1174:249,242,19;1175:249,244,18;1176:249,246,17;1177:249,247,16;1178:249,249,14\",\"fBuf\":{\"$arr\":\"Float32\",\"len\":255,\"v\":[924,925,926,927,928,929,930,931,932,933,934,935,936,937,938,939,940,941,942,943,944,945,946,947,948,949,950,951,952,953,954,955,956,957,958,959,960,961,962,963,964,965,966,967,968,969,970,971,972,973,974,975,976,977,978,979,980,981,982,983,984,985,986,987,988,989,990,991,992,993,994,995,996,997,998,999,1000,1001,1002,1003,1004,1005,1006,1007,1008,1009,1010,1011,1012,1013,1014,1015,1016,1017,1018,1019,1020,1021,1022,1023,1024,1025,1026,1027,1028,1029,1030,1031,1032,1033,1034,1035,1036,1037,1038,1039,1040,1041,1042,1043,1044,1045,1046,1047,1048,1049,1050,1051,1052,1053,1054,1055,1056,1057,1058,1059,1060,1061,1062,1063,1064,1065,1066,1067,1068,1069,1070,1071,1072,1073,1074,1075,1076,1077,1078,1079,1080,1081,1082,1083,1084,1085,1086,1087,1088,1089,1090,1091,1092,1093,1094,1095,1096,1097,1098,1099,1100,1101,1102,1103,1104,1105,1106,1107,1108,1109,1110,1111,1112,1113,1114,1115,1116,1117,1118,1119,1120,1121,1122,1123,1124,1125,1126,1127,1128,1129,1130,1131,1132,1133,1134,1135,1136,1137,1138,1139,1140,1141,1142,1143,1144,1145,1146,1147,1148,1149,1150,1151,1152,1153,1154,1155,1156,1157,1158,1159,1160,1161,1162,1163,1164,1165,1166,1167,1168,1169,1170,1171,1172,1173,1174,1175,1176,1177,1178]}}},{\"_typename\":\"TWebSnapshot\",\"fUniqueID\":0,\"fBits\":0,\"fObjectID\":\"\",\"fOption\":\"\",\"fKind\":5,\"fSnapshot\":{\"_typename\":\"TStyle\",\"fUniqueID\":0,\"fBits\":0,\"fName\":\"Modern\",\"fTitle\":\"Modern Style\",\"fLineColor\":1,\"fLineStyle\":1,\"fLineWidth\":1,\"fFillColor\":19,\"fFillStyle\":1001,\"fMarkerColor\":1,\"fMarkerStyle\":1,\"fMarkerSize\":1,\"fTextAngle\":0,\"fTextSize\":0.05,\"fTextAlign\":11,\"fTextColor\":1,\"fTextFont\":62,\"fXaxis\":{\"_typename\":\"TAttAxis\",\"fNdivisions\":510,\"fAxisColor\":1,\"fLabelColor\":1,\"fLabelFont\":42,\"fLabelOffset\":0.005,\"fLabelSize\":0.035,\"fTickLength\":0.03,\"fTitleOffset\":1,\"fTitleSize\":0.035,\"fTitleColor\":1,\"fTitleFont\":42},\"fYaxis\":{\"_typename\":\"TAttAxis\",\"fNdivisions\":510,\"fAxisColor\":1,\"fLabelColor\":1,\"fLabelFont\":42,\"fLabelOffset\":0.005,\"fLabelSize\":0.035,\"fTickLength\":0.03,\"fTitleOffset\":0,\"fTitleSize\":0.035,\"fTitleColor\":1,\"fTitleFont\":42},\"fZaxis\":{\"_typename\":\"TAttAxis\",\"fNdivisions\":510,\"fAxisColor\":1,\"fLabelColor\":1,\"fLabelFont\":42,\"fLabelOffset\":0.005,\"fLabelSize\":0.035,\"fTickLength\":0.03,\"fTitleOffset\":1,\"fTitleSize\":0.035,\"fTitleColor\":1,\"fTitleFont\":42},\"fBarWidth\":1,\"fBarOffset\":0,\"fColorModelPS\":0,\"fDrawBorder\":0,\"fOptLogx\":0,\"fOptLogy\":0,\"fOptLogz\":0,\"fOptDate\":0,\"fOptStat\":0,\"fOptTitle\":1,\"fOptFile\":0,\"fOptFit\":1,\"fShowEventStatus\":0,\"fShowEditor\":0,\"fShowToolBar\":0,\"fNumberContours\":20,\"fAttDate\":{\"_typename\":\"TAttText\",\"fTextAngle\":0,\"fTextSize\":0.025,\"fTextAlign\":11,\"fTextColor\":1,\"fTextFont\":62},\"fDateX\":0.01,\"fDateY\":0.01,\"fEndErrorSize\":2,\"fErrorX\":0.5,\"fFuncColor\":2,\"fFuncStyle\":1,\"fFuncWidth\":2,\"fGridColor\":0,\"fGridStyle\":3,\"fGridWidth\":1,\"fLegendBorderSize\":1,\"fLegendFillColor\":0,\"fLegendFillStyle\":1001,\"fLegendFont\":42,\"fLegendTextSize\":0,\"fHatchesLineWidth\":1,\"fHatchesSpacing\":1,\"fFrameFillColor\":0,\"fFrameLineColor\":1,\"fFrameFillStyle\":1001,\"fFrameLineStyle\":1,\"fFrameLineWidth\":1,\"fFrameBorderSize\":1,\"fFrameBorderMode\":0,\"fHistFillColor\":0,\"fHistLineColor\":602,\"fHistFillStyle\":1001,\"fHistLineStyle\":1,\"fHistLineWidth\":1,\"fHistMinimumZero\":false,\"fHistTopMargin\":0.05,\"fCanvasPreferGL\":false,\"fCanvasColor\":0,\"fCanvasBorderSize\":2,\"fCanvasBorderMode\":0,\"fCanvasDefH\":500,\"fCanvasDefW\":700,\"fCanvasDefX\":10,\"fCanvasDefY\":10,\"fPadColor\":0,\"fPadBorderSize\":2,\"fPadBorderMode\":0,\"fPadBottomMargin\":0.1,\"fPadTopMargin\":0.1,\"fPadLeftMargin\":0.1,\"fPadRightMargin\":0.1,\"fPadGridX\":false,\"fPadGridY\":false,\"fPadTickX\":0,\"fPadTickY\":0,\"fPaperSizeX\":20,\"fPaperSizeY\":26,\"fScreenFactor\":1,\"fStatColor\":0,\"fStatTextColor\":1,\"fStatBorderSize\":1,\"fStatFont\":42,\"fStatFontSize\":0,\"fStatStyle\":1001,\"fStatFormat\":\"6.4g\",\"fStatX\":0.98,\"fStatY\":0.935,\"fStatW\":0.2,\"fStatH\":0.16,\"fStripDecimals\":true,\"fTitleAlign\":23,\"fTitleColor\":0,\"fTitleTextColor\":1,\"fTitleBorderSize\":0,\"fTitleFont\":42,\"fTitleFontSize\":0.05,\"fTitleStyle\":0,\"fTitleX\":0.5,\"fTitleY\":0.995,\"fTitleW\":0,\"fTitleH\":0,\"fLegoInnerR\":0.5,\"fLineStyles\":[\"\",\"  \",\" 12 12\",\" 4 8\",\" 12 16 4 16\",\" 20 12 4 12\",\" 20 12 4 12 4 12 4 12\",\" 20 20\",\" 20 12 4 12 4 12\",\" 80 20\",\" 80 40 4 40\",\"  \",\"  \",\"  \",\"  \",\"  \",\"  \",\"  \",\"  \",\"  \",\"  \",\"  \",\"  \",\"  \",\"  \",\"  \",\"  \",\"  \",\"  \",\"  \"],\"fHeaderPS\":\"\",\"fTitlePS\":\"\",\"fFitFormat\":\"5.4g\",\"fPaintTextFormat\":\"g\",\"fLineScalePS\":3,\"fJoinLinePS\":0,\"fCapLinePS\":0,\"fTimeOffset\":788918400,\"fImageScaling\":1,\"fCandleWhiskerRange\":1,\"fCandleBoxRange\":0.5,\"fCandleScaled\":false,\"fViolinScaled\":true,\"fXAxisExpXOffset\":0,\"fXAxisExpYOffset\":0,\"fYAxisExpXOffset\":0,\"fYAxisExpYOffset\":0,\"fAxisMaxDigits\":5,\"fOrthoCamera\":false}},{\"_typename\":\"TWebSnapshot\",\"fUniqueID\":0,\"fBits\":0,\"fObjectID\":\"\",\"fOption\":\"\",\"fKind\":1,\"fSnapshot\":{\"_typename\":\"TFrame\",\"fUniqueID\":0,\"fBits\":8,\"fLineColor\":1,\"fLineStyle\":1,\"fLineWidth\":1,\"fFillColor\":0,\"fFillStyle\":1001,\"fX1\":3.28755412468929,\"fY1\":21.62835,\"fX2\":8.48711292516792,\"fY2\":50.46615,\"fBorderSize\":1,\"fBorderMode\":0}},{\"_typename\":\"TWebSnapshot\",\"fUniqueID\":0,\"fBits\":0,\"fObjectID\":\"\",\"fOption\":\"ap\",\"fKind\":1,\"fSnapshot\":{\"_typename\":\"TGraphErrors\",\"fUniqueID\":0,\"fBits\":1032,\"fName\":\"Graph\",\"fTitle\":\"Experimental Planck Constant\",\"fLineColor\":1,\"fLineStyle\":1,\"fLineWidth\":1,\"fFillColor\":0,\"fFillStyle\":1000,\"fMarkerColor\":600,\"fMarkerStyle\":20,\"fMarkerSize\":1,\"fNpoints\":6,\"fX\":{\"$arr\":\"Float64\",\"len\":6,\"v\":[3.76517736950262,4.59780182082671,5.34823771298217,5.81927884645697,6.51470123139416,7.48126608072402]},\"fY\":{\"$arr\":\"Float64\",\"len\":6,\"v\":[24.0315,28.8378,33.6441,38.4504,43.2567,48.063]},\"fFunctions\":{\"_typename\":\"TList\",\"name\":\"TList\",\"arr\":[{\"_typename\":\"TF1\",\"fUniqueID\":0,\"fBits\":1024,\"fName\":\"fit_func\",\"fTitle\":\"[0] + [1]*x\",\"fLineColor\":2,\"fLineStyle\":1,\"fLineWidth\":2,\"fFillColor\":19,\"fFillStyle\":0,\"fMarkerColor\":1,\"fMarkerStyle\":1,\"fMarkerSize\":1,\"fXmin\":3.28755412468929,\"fXmax\":8.48711292516792,\"fNpar\":2,\"fNdim\":1,\"fNpx\":100,\"fType\":0,\"fNpfits\":6,\"fNDF\":4,\"fChisquare\":4.04912626232778,\"fMinimum\":-1111,\"fMaximum\":-1111,\"fParErrors\":[1.34502942424165,0.30857205885446],\"fParMin\":[0,0],\"fParMax\":[0,0],\"fSave\":{\"$arr\":\"Float64\",\"len\":103,\"v\":[20.7439658201437,21.0802141389603,21.4164624577769,21.7527107765936,22.0889590954102,22.4252074142268,22.7614557330434,23.0977040518601,23.4339523706767,23.7702006894933,24.1064490083099,24.4426973271266,24.7789456459432,25.1151939647598,25.4514422835764,25.7876906023931,26.1239389212097,26.4601872400263,26.7964355588429,27.1326838776596,27.4689321964762,27.8051805152928,28.1414288341094,28.477677152926,28.8139254717427,29.1501737905593,29.4864221093759,29.8226704281925,30.1589187470092,30.4951670658258,30.8314153846424,31.167663703459,31.5039120222757,31.8401603410923,32.1764086599089,32.5126569787255,32.8489052975422,33.1851536163588,33.5214019351754,33.857650253992,34.1938985728087,34.5301468916253,34.8663952104419,35.2026435292585,35.5388918480751,35.8751401668918,36.2113884857084,36.547636804525,36.8838851233416,37.2201334421583,37.5563817609749,37.8926300797915,38.2288783986081,38.5651267174248,38.9013750362414,39.237623355058,39.5738716738746,39.9101199926913,40.2463683115079,40.5826166303245,40.9188649491411,41.2551132679578,41.5913615867744,41.927609905591,42.2638582244076,42.6001065432242,42.9363548620409,43.2726031808575,43.6088514996741,43.9450998184907,44.2813481373074,44.617596456124,44.9538447749406,45.2900930937572,45.6263414125739,45.9625897313905,46.2988380502071,46.6350863690237,46.9713346878404,47.307583006657,47.6438313254736,47.9800796442902,48.3163279631069,48.6525762819235,48.9888246007401,49.3250729195567,49.6613212383733,49.99756955719,50.3338178760066,50.6700661948232,51.0063145136399,51.3425628324565,51.6788111512731,52.0150594700897,52.3513077889063,52.687556107723,53.0238044265396,53.3600527453562,53.6963010641728,54.0325493829895,54.3687977018061,3.28755412468929,8.48711292516792]},\"fNormalized\":false,\"fNormIntegral\":0,\"fFormula\":{\"_typename\":\"TFormula\",\"fUniqueID\":0,\"fBits\":1024,\"fName\":\"fit_func\",\"fTitle\":\"[0] + [1]*x\",\"fClingParameters\":[-0.516194702392851,6.46686251121291],\"fAllParametersSetted\":true,\"fParams\":[{\"$pair\":\"pair<TString,int,TFormulaParamOrder>\",\"first\":\"p0\",\"second\":0},{\"$pair\":\"pair<TString,int,TFormulaParamOrder>\",\"first\":\"p1\",\"second\":1}],\"fFormula\":\"[p0]+[p1]*x\",\"fNdim\":1,\"fNumber\":0,\"fLinearParts\":[],\"fVectorized\":false},\"fParams\":null,\"fComposition\":null},{\"_typename\":\"TPaveStats\",\"fUniqueID\":0,\"fBits\":9,\"fLineColor\":1,\"fLineStyle\":1,\"fLineWidth\":1,\"fFillColor\":0,\"fFillStyle\":1001,\"fX1\":3.61252651582194,\"fY1\":45.0590626342865,\"fX2\":5.56236109505622,\"fY2\":49.384732698744,\"fX1NDC\":0.15,\"fY1NDC\":0.75,\"fX2NDC\":0.45,\"fY2NDC\":0.87,\"fBorderSize\":1,\"fInit\":1,\"fShadowColor\":1,\"fCornerRadius\":0,\"fOption\":\"brNDC\",\"fName\":\"stats\",\"fTextAngle\":0,\"fTextSize\":0.03,\"fTextAlign\":12,\"fTextColor\":1,\"fTextFont\":42,\"fLabel\":\"\",\"fLongest\":29,\"fMargin\":0.05,\"fLines\":{\"_typename\":\"TList\",\"name\":\"TList\",\"arr\":[{\"_typename\":\"TLatex\",\"fUniqueID\":0,\"fBits\":0,\"fName\":\"\",\"fTitle\":\"#chi^{2} \\/ ndf = 4.049 \\/ 4\",\"fTextAngle\":0,\"fTextSize\":0,\"fTextAlign\":0,\"fTextColor\":0,\"fTextFont\":0,\"fX\":0,\"fY\":0,\"fLineColor\":1,\"fLineStyle\":1,\"fLineWidth\":2,\"fLimitFactorSize\":3,\"fOriginSize\":0.04},{\"_typename\":\"TLatex\",\"fUniqueID\":0,\"fBits\":0,\"fName\":\"\",\"fTitle\":\"p0       = -0.5162 #pm 1.345 \",\"fTextAngle\":0,\"fTextSize\":0,\"fTextAlign\":0,\"fTextColor\":0,\"fTextFont\":0,\"fX\":0,\"fY\":0,\"fLineColor\":1,\"fLineStyle\":1,\"fLineWidth\":2,\"fLimitFactorSize\":3,\"fOriginSize\":0.04},{\"_typename\":\"TLatex\",\"fUniqueID\":0,\"fBits\":0,\"fName\":\"\",\"fTitle\":\"p1       = 6.467 #pm 0.3086 \",\"fTextAngle\":0,\"fTextSize\":0,\"fTextAlign\":0,\"fTextColor\":0,\"fTextFont\":0,\"fX\":0,\"fY\":0,\"fLineColor\":1,\"fLineStyle\":1,\"fLineWidth\":2,\"fLimitFactorSize\":3,\"fOriginSize\":0.04}],\"opt\":[\"\",\"\",\"\"]},\"fOptFit\":111,\"fOptStat\":0,\"fFitFormat\":\"5.4g\",\"fStatFormat\":\"6.4g\",\"fParent\":{\"$ref\":16}}],\"opt\":[\"\",\"brNDC\"]},\"fHistogram\":{\"_typename\":\"TH1F\",\"fUniqueID\":0,\"fBits\":512,\"fName\":\"Graph\",\"fTitle\":\"Experimental Planck Constant\",\"fLineColor\":602,\"fLineStyle\":1,\"fLineWidth\":1,\"fFillColor\":0,\"fFillStyle\":1001,\"fMarkerColor\":1,\"fMarkerStyle\":1,\"fMarkerSize\":1,\"fNcells\":102,\"fXaxis\":{\"_typename\":\"TAxis\",\"fUniqueID\":0,\"fBits\":0,\"fName\":\"xaxis\",\"fTitle\":\"f_{max}\",\"fNdivisions\":510,\"fAxisColor\":1,\"fLabelColor\":1,\"fLabelFont\":42,\"fLabelOffset\":0.005,\"fLabelSize\":0.035,\"fTickLength\":0.03,\"fTitleOffset\":1,\"fTitleSize\":0.035,\"fTitleColor\":1,\"fTitleFont\":42,\"fNbins\":100,\"fXmin\":3.28755412468929,\"fXmax\":8.48711292516792,\"fXbins\":[],\"fFirst\":0,\"fLast\":0,\"fBits2\":0,\"fTimeDisplay\":false,\"fTimeFormat\":\"\",\"fLabels\":null,\"fModLabs\":null},\"fYaxis\":{\"_typename\":\"TAxis\",\"fUniqueID\":0,\"fBits\":0,\"fName\":\"yaxis\",\"fTitle\":\"Energy (J)\",\"fNdivisions\":510,\"fAxisColor\":1,\"fLabelColor\":1,\"fLabelFont\":42,\"fLabelOffset\":0.005,\"fLabelSize\":0.035,\"fTickLength\":0.03,\"fTitleOffset\":0,\"fTitleSize\":0.035,\"fTitleColor\":1,\"fTitleFont\":42,\"fNbins\":1,\"fXmin\":21.62835,\"fXmax\":50.46615,\"fXbins\":[],\"fFirst\":0,\"fLast\":0,\"fBits2\":0,\"fTimeDisplay\":false,\"fTimeFormat\":\"\",\"fLabels\":null,\"fModLabs\":null},\"fZaxis\":{\"_typename\":\"TAxis\",\"fUniqueID\":0,\"fBits\":0,\"fName\":\"zaxis\",\"fTitle\":\"\",\"fNdivisions\":510,\"fAxisColor\":1,\"fLabelColor\":1,\"fLabelFont\":42,\"fLabelOffset\":0.005,\"fLabelSize\":0.035,\"fTickLength\":0.03,\"fTitleOffset\":1,\"fTitleSize\":0.035,\"fTitleColor\":1,\"fTitleFont\":42,\"fNbins\":1,\"fXmin\":0,\"fXmax\":1,\"fXbins\":[],\"fFirst\":0,\"fLast\":0,\"fBits2\":0,\"fTimeDisplay\":false,\"fTimeFormat\":\"\",\"fLabels\":null,\"fModLabs\":null},\"fBarOffset\":0,\"fBarWidth\":1000,\"fEntries\":0,\"fTsumw\":0,\"fTsumw2\":0,\"fTsumwx\":0,\"fTsumwx2\":0,\"fMaximum\":50.46615,\"fMinimum\":21.62835,\"fNormFactor\":0,\"fContour\":[],\"fSumw2\":[],\"fOption\":\"\",\"fFunctions\":{\"_typename\":\"TList\",\"name\":\"TList\",\"arr\":[],\"opt\":[]},\"fBufferSize\":0,\"fBuffer\":[],\"fBinStatErrOpt\":0,\"fStatOverflows\":2,\"fArray\":{\"$arr\":\"Float32\",\"len\":102}},\"fMinimum\":-1111,\"fMaximum\":-1111,\"fOption\":\"\",\"fEX\":{\"$arr\":\"Float64\",\"len\":6,\"v\":[0.0443266781067721,0.0563737355267519,0.100940705327036,0.188518237637387,0.274174473242979,0.572550277737351]},\"fEY\":{\"$arr\":\"Float64\",\"len\":6}}},{\"_typename\":\"TWebSnapshot\",\"fUniqueID\":0,\"fBits\":0,\"fObjectID\":\"\",\"fOption\":\"same;prefer_saved\",\"fKind\":1,\"fSnapshot\":{\"_typename\":\"TF1\",\"fUniqueID\":0,\"fBits\":8,\"fName\":\"fit_func\",\"fTitle\":\"[0] + [1]*x\",\"fLineColor\":2,\"fLineStyle\":1,\"fLineWidth\":2,\"fFillColor\":19,\"fFillStyle\":0,\"fMarkerColor\":1,\"fMarkerStyle\":1,\"fMarkerSize\":1,\"fXmin\":0,\"fXmax\":1,\"fNpar\":2,\"fNdim\":1,\"fNpx\":100,\"fType\":0,\"fNpfits\":6,\"fNDF\":4,\"fChisquare\":4.04912626232778,\"fMinimum\":-1111,\"fMaximum\":-1111,\"fParErrors\":[1.34502942424165,0.30857205885446],\"fParMin\":[0,0],\"fParMax\":[0,0],\"fSave\":{\"$arr\":\"Float64\",\"len\":102,\"v\":[-0.483860389836786,-0.419191764724657,-0.354523139612528,-0.289854514500399,-0.22518588938827,-0.160517264276141,-0.095848639164012,-0.0311800140518829,0.0334886110602461,0.0981572361723752,0.162825861284504,0.227494486396633,0.292163111508762,0.356831736620892,0.421500361733021,0.48616898684515,0.550837611957279,0.615506237069408,0.680174862181537,0.744843487293666,0.809512112405795,0.874180737517924,0.938849362630053,1.00351798774218,1.06818661285431,1.13285523796644,1.19752386307857,1.2621924881907,1.32686111330283,1.39152973841496,1.45619836352709,1.52086698863921,1.58553561375134,1.65020423886347,1.7148728639756,1.77954148908773,1.84421011419986,1.90887873931199,1.97354736442412,2.03821598953625,2.10288461464838,2.16755323976051,2.23222186487263,2.29689048998476,2.36155911509689,2.42622774020902,2.49089636532115,2.55556499043328,2.62023361554541,2.68490224065754,2.74957086576967,2.8142394908818,2.87890811599393,2.94357674110605,3.00824536621818,3.07291399133031,3.13758261644244,3.20225124155457,3.2669198666667,3.33158849177883,3.39625711689096,3.46092574200309,3.52559436711522,3.59026299222735,3.65493161733947,3.7196002424516,3.78426886756373,3.84893749267586,3.91360611778799,3.97827474290012,4.04294336801225,4.10761199312438,4.17228061823651,4.23694924334864,4.30161786846076,4.36628649357289,4.43095511868502,4.49562374379715,4.56029236890928,4.62496099402141,4.68962961913354,4.75429824424567,4.8189668693578,4.88363549446993,4.94830411958206,5.01297274469418,5.07764136980631,5.14230999491844,5.20697862003057,5.2716472451427,5.33631587025483,5.40098449536696,5.46565312047909,5.53032174559122,5.59499037070335,5.65965899581548,5.7243276209276,5.78899624603973,5.85366487115186,5.91833349626399,0.005,0.995]},\"fNormalized\":false,\"fNormIntegral\":0,\"fFormula\":{\"_typename\":\"TFormula\",\"fUniqueID\":0,\"fBits\":1024,\"fName\":\"fit_func\",\"fTitle\":\"[0] + [1]*x\",\"fClingParameters\":[-0.516194702392851,6.46686251121291],\"fAllParametersSetted\":true,\"fParams\":[{\"$pair\":\"pair<TString,int,TFormulaParamOrder>\",\"first\":\"p0\",\"second\":0},{\"$pair\":\"pair<TString,int,TFormulaParamOrder>\",\"first\":\"p1\",\"second\":1}],\"fFormula\":\"[p0]+[p1]*x\",\"fNdim\":1,\"fNumber\":0,\"fLinearParts\":[],\"fVectorized\":false},\"fParams\":null,\"fComposition\":null}},{\"_typename\":\"TWebSnapshot\",\"fUniqueID\":0,\"fBits\":0,\"fObjectID\":\"\",\"fOption\":\"blNDC\",\"fKind\":1,\"fSnapshot\":{\"_typename\":\"TPaveText\",\"fUniqueID\":0,\"fBits\":9,\"fLineColor\":1,\"fLineStyle\":1,\"fLineWidth\":1,\"fFillColor\":0,\"fFillStyle\":0,\"fX1\":4.11990809351716,\"fY1\":51.697554714535,\"fX2\":7.65475895634005,\"fY2\":53.8906391877739,\"fX1NDC\":0.228065326633166,\"fY1NDC\":0.934160843929211,\"fX2NDC\":0.771934673366834,\"fY2NDC\":0.995000004768372,\"fBorderSize\":0,\"fInit\":1,\"fShadowColor\":1,\"fCornerRadius\":0,\"fOption\":\"blNDC\",\"fName\":\"title\",\"fTextAngle\":0,\"fTextSize\":0,\"fTextAlign\":22,\"fTextColor\":1,\"fTextFont\":42,\"fLabel\":\"\",\"fLongest\":28,\"fMargin\":0.05,\"fLines\":{\"_typename\":\"TList\",\"name\":\"TList\",\"arr\":[{\"_typename\":\"TLatex\",\"fUniqueID\":0,\"fBits\":0,\"fName\":\"\",\"fTitle\":\"Experimental Planck Constant\",\"fTextAngle\":0,\"fTextSize\":0,\"fTextAlign\":0,\"fTextColor\":0,\"fTextFont\":0,\"fX\":0,\"fY\":0,\"fLineColor\":1,\"fLineStyle\":1,\"fLineWidth\":2,\"fLimitFactorSize\":3,\"fOriginSize\":0.0517132878303528}],\"opt\":[\"\"]}}}],\"fScripts\":\"\",\"fHighlightConnect\":false,\"fFixedSize\":false});\n",
       "   Core.settings.HandleKeys = false;\n",
       "   Core.draw(\"root_plot_1760651887023\", obj, \"\");\n",
       "}\n",
       "\n",
       "function script_load_root_plot_1760651887023(src, on_error) {\n",
       "    let script = document.createElement('script');\n",
       "    script.src = src;\n",
       "    script.onload = function() { display_root_plot_1760651887023(JSROOT); };\n",
       "    script.onerror = function() { script.remove(); on_error(); };\n",
       "    document.head.appendChild(script);\n",
       "}\n",
       "\n",
       "if (typeof requirejs !== 'undefined') {\n",
       "\n",
       "    // We are in jupyter notebooks, use require.js which should be configured already\n",
       "    requirejs.config({\n",
       "       paths: { 'JSRootCore' : [ 'build/jsroot', 'https://root.cern/js/7.7.4/build/jsroot', 'https://jsroot.gsi.de/7.7.4/build/jsroot' ] }\n",
       "    })(['JSRootCore'],  function(Core) {\n",
       "       display_root_plot_1760651887023(Core);\n",
       "    });\n",
       "\n",
       "} else if (typeof JSROOT !== 'undefined') {\n",
       "\n",
       "   // JSROOT already loaded, just use it\n",
       "   display_root_plot_1760651887023(JSROOT);\n",
       "\n",
       "} else {\n",
       "\n",
       "    // We are in jupyterlab without require.js, directly loading jsroot\n",
       "    // Jupyterlab might be installed in a different base_url so we need to know it.\n",
       "    try {\n",
       "        var base_url = JSON.parse(document.getElementById('jupyter-config-data').innerHTML).baseUrl;\n",
       "    } catch(_) {\n",
       "        var base_url = '/';\n",
       "    }\n",
       "\n",
       "    // Try loading a local version of requirejs and fallback to cdn if not possible.\n",
       "    script_load_root_plot_1760651887023(base_url + 'static/build/jsroot.js', function(){\n",
       "        console.error('Fail to load JSROOT locally, please check your jupyter_notebook_config.py file');\n",
       "        script_load_root_plot_1760651887023('https://root.cern/js/7.7.4/build/jsroot.js', function(){\n",
       "            document.getElementById(\"root_plot_1760651887023\").innerHTML = \"Failed to load JSROOT\";\n",
       "        });\n",
       "    });\n",
       "}\n",
       "\n",
       "</script>\n"
      ],
      "text/plain": [
       "<IPython.core.display.HTML object>"
      ]
     },
     "metadata": {},
     "output_type": "display_data"
    }
   ],
   "source": [
    "import ROOT\n",
    "ROOT.gStyle.SetOptFit(1)\n",
    "\n",
    "y = rescale_e(e_list)\n",
    "f_scaled=rescale_f(f_data)\n",
    "x = f_scaled[:,0]\n",
    "sx = f_scaled[:,1]\n",
    "sy = [0]*6 \n",
    "\n",
    "graph = ROOT.TGraphErrors(len(x))\n",
    "for i in range(len(x)):\n",
    "    graph.SetPoint(i, x[i], y[i])\n",
    "    graph.SetPointError(i, sx[i], sy[i])\n",
    "\n",
    "fit_func = ROOT.TF1(\"fit_func\", \"[0] + [1]*x\")\n",
    "b_guess = (y[-1] - y[0]) / (x[-1] - x[0])\n",
    "a_guess = y[0] - b_guess * x[0]\n",
    "\n",
    "fit_func.SetParameters(a_guess, b_guess)\n",
    "print(\"Initial guesses:\", a_guess, b_guess)\n",
    "\n",
    "graph.Fit(fit_func,\"S\")\n",
    "cal_parameters=[(fit_func.GetParameter(i),fit_func.GetParError(i)) for i in range(2)]\n",
    "\n",
    "graph.SetMarkerStyle(20)\n",
    "graph.SetMarkerColor(ROOT.kBlue)\n",
    "graph.SetTitle(\"Experimental Planck Constant;f_{max};Energy (J)\")\n",
    "\n",
    "c = ROOT.TCanvas(\"c\", \"Line Fit\", 800, 600)\n",
    "graph.Draw(\"AP\")\n",
    "fit_func.Draw(\"same\")\n",
    "c.Update()\n",
    "stats = graph.GetListOfFunctions().FindObject(\"stats\")\n",
    "if stats:\n",
    "    stats.SetX1NDC(0.15)  \n",
    "    stats.SetY1NDC(0.75)  \n",
    "    stats.SetX2NDC(0.45) \n",
    "    stats.SetY2NDC(0.87)   \n",
    "    stats.SetTextSize(0.03)\n",
    "    c.Modified()\n",
    "\n",
    "ROOT.gPad.SetTicks(1, 1)\n",
    "ROOT.gPad.SetGrid(1, 1)\n",
    "c.Update()\n",
    "c.SaveAs(\"h_plot.pdf\")"
   ]
  },
  {
   "cell_type": "code",
   "execution_count": 81,
   "id": "97e65c4c",
   "metadata": {},
   "outputs": [
    {
     "data": {
      "text/plain": [
       "[(-0.516194702392851, 1.3450294242416538),\n",
       " (6.4668625112129074, 0.3085720588544602)]"
      ]
     },
     "execution_count": 81,
     "metadata": {},
     "output_type": "execute_result"
    }
   ],
   "source": [
    "cal_parameters"
   ]
  },
  {
   "cell_type": "code",
   "execution_count": 82,
   "id": "35556c9f",
   "metadata": {},
   "outputs": [
    {
     "name": "stdout",
     "output_type": "stream",
     "text": [
      "planck constant = 6.466862511212907e-34 +- 3.085720588544602e-35\n"
     ]
    }
   ],
   "source": [
    "result=[cal_parameters[1][i]*1e-34 for i in range(2)]\n",
    "print(f\"planck constant = {result[0]} +- {result[1]}\")"
   ]
  }
 ],
 "metadata": {
  "kernelspec": {
   "display_name": "proot",
   "language": "python",
   "name": "python3"
  },
  "language_info": {
   "codemirror_mode": {
    "name": "ipython",
    "version": 3
   },
   "file_extension": ".py",
   "mimetype": "text/x-python",
   "name": "python",
   "nbconvert_exporter": "python",
   "pygments_lexer": "ipython3",
   "version": "3.11.11"
  }
 },
 "nbformat": 4,
 "nbformat_minor": 5
}
